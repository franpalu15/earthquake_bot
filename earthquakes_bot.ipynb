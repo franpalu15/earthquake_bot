from telegram.ext import *
from telegram import *
from telegram import ParseMode

updater = Updater(YOUR_TOKEN, use_context=True)
dispatcher = updater.dispatcher

def start(update:Update, context: CallbackContext):
    buttons = [[KeyboardButton("Latest Earthquakes 🏔")],]
    context.bot.send_message(chat_id = update.effective_chat.id, text = "Hi! Welcome to Earthquake-bot!",
    reply_markup = ReplyKeyboardMarkup(buttons))

def messageHandler(update: Update, context: CallbackContext):
    if "Latest Earthquakes 🏔" in update.message.text:
        import pandas as pd
        from datetime import datetime, timedelta, date
        import time
        from dateutil import tz
        today = str(date.today())
        dati = pd.read_csv("https://earthquake.usgs.gov/earthquakes/feed/v1.0/summary/all_day.csv")
        dati["time"] = pd.to_datetime(dati["time"], format="%Y-%m-%dT%H:%M:%S.%fZ")
        dati["date"] = dati["time"].dt.strftime("%Y-%m-%d %H:%M:%S")
        dati = dati[dati['date'].str.contains(today)]
        dati = dati.sort_values(by="date", ascending = False)
        dati["date"] = pd.to_datetime(dati["date"])
        dati["date"] = dati["date"] + timedelta(hours = 2)
        final_eq_string = ""
        for i in range(0,5):
            date, typ, place, mag, lat, lon, depth = dati.iloc[i]["date"], dati.iloc[i]["type"],  dati.iloc[i]["place"], round(dati.iloc[i]["mag"],1), round(dati.iloc[i]["latitude"],4), round(dati.iloc[i]["longitude"],4),  round(dati.iloc[i]["depth"],1)

            string = f"In date/time: {date}, an event classified {typ} happened in {place}. \nLatitude: {lat}\nLongitude: {lon}\nMagnitude: {mag}\nDepth: {depth} Km\n\n"

            final_eq_string += string
        update.message.reply_text(final_eq_string)
        status = bot.send_message(chat_id=YOUR_TOKEN, text=msg, parse_mode=telegram.ParseMode.HTML)
        print(status)
        
updater.dispatcher.add_handler(CommandHandler('start', start))
updater.dispatcher.add_handler(MessageHandler(Filters.text, messageHandler)) 
updater.dispatcher.add_handler(MessageHandler(Filters.location, messageHandler))
updater.start_polling()
